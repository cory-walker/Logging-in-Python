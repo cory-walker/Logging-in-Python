{
 "cells": [
  {
   "cell_type": "markdown",
   "metadata": {},
   "source": [
    "# A brief look at the Python Logging library\n",
    "\n",
    "Logging is tde way we can track events when software runs. We can add logging calls just to pass information, warn when sometding went wrong, raise exceptions, or when we suppress an error. When doing so, we can also indicate how important tde event is, drawing more attention to critical issues\n",
    "\n",
    "### How should we use logging?\n",
    "\n",
    "<table style=\"float:left\">\n",
    "    <tr>\n",
    "        <td>What you want to do</td>\n",
    "        <td>tde tool to use</td>\n",
    "    </tr>\n",
    "    <tr>\n",
    "        <td>Display a message to tde console</td>\n",
    "        <td>print()</td>\n",
    "    </tr>\n",
    "    <tr>\n",
    "        <td>Log normal events</td>\n",
    "        <td>logging.info() for general statements \\nlogging.debug() for diagnostic logs</td>\n",
    "    </tr>\n",
    "    <tr>\n",
    "        <td>Log a warning</td>\n",
    "        <td>warnings.warn() for avoidable issues \\nlogging.warning() for unavoidable issues</td>\n",
    "    </tr>\n",
    "    <tr>\n",
    "        <td>Report an error</td>\n",
    "        <td>Raise an exception</td>\n",
    "    </tr>\n",
    "    <tr>\n",
    "        <td>Log error supression</td>\n",
    "        <td>logging.error(), logging.exception(), or logging.critical() depending on severity and domain</td>\n",
    "    </tr>\n",
    "</table>"
   ]
  },
  {
   "cell_type": "markdown",
   "metadata": {},
   "source": [
    "### What are the different severity levels?\n",
    "\n",
    "<table style=\"float:left\">\n",
    "    <tr>\n",
    "        <th>Level</th>\n",
    "        <th>Description</th>\n",
    "    </tr>\n",
    "    <tr>\n",
    "        <td>DEBUG</td>\n",
    "        <td>Detailed diagnostic information</td>\n",
    "    </tr>\n",
    "    <tr>\n",
    "        <td>INFO</td>\n",
    "        <td>Generalized information</td>\n",
    "    </tr>\n",
    "    <tr>\n",
    "        <td>WARNING</td>\n",
    "        <td>When something unexpected happens but the program is still running as it should</td>\n",
    "    </tr>\n",
    "    <tr>\n",
    "        <td>ERROR</td>\n",
    "        <td>Something went wrong and as a result, the program couldn't do something</td>\n",
    "    </tr>\n",
    "    <tr>\n",
    "        <td>CRITICAL</td>\n",
    "        <td>A serious error, and the program may have to stop</td>\n",
    "    </tr>\n",
    "</table>\n",
    "\n",
    "<br><br><br><br><br><br><br><br><br>\n",
    "The default level is WARNING, so we will need to configure the package differently if we want to track other levels"
   ]
  },
  {
   "cell_type": "markdown",
   "metadata": {},
   "source": [
    "### Logging to a file\n",
    "\n",
    "Try the below code to test logging to a example.log"
   ]
  },
  {
   "cell_type": "code",
   "execution_count": 1,
   "metadata": {},
   "outputs": [],
   "source": [
    "import logging\n",
    "\n",
    "# Set the file and logging level\n",
    "# The following format means that we are writing the timestamp, severity and content\n",
    "# filename: the file name of the log\n",
    "# filemode: 'w' will overwrite the log, 'a' will append\n",
    "# level: the logging level, the default is WARNING\n",
    "# format: The format of what is written to the log\n",
    "logging.basicConfig(filename='example.log', filemode='w', level=logging.DEBUG, format='%(asctime)s - %(levelname)s - %(message)s')\n",
    "\n",
    "# Now that it is configured, lets write some entries\n",
    "logging.debug('This is a debug log')\n",
    "logging.info('This is an info log')\n",
    "logging.warning('This is a warning')\n",
    "logging.error('This is an error')\n",
    "\n",
    "# log data from a variable\n",
    "var = 'variable'\n",
    "logging.info('This contains a %s',var)\n",
    "\n",
    "#close the log\n",
    "logging.FileHandler('first_example.log').close()"
   ]
  },
  {
   "cell_type": "markdown",
   "metadata": {},
   "source": [
    "Please see <a href=\"https://docs.python.org/3/howto/logging.html\">This logging tutorial</a> by Vinay Sajip (vinay_sajip at red-dove dot com) for a much deeper look at logging. This notebook is only meant to be a quick reference guide to only the most commonly used functionality"
   ]
  },
  {
   "cell_type": "code",
   "execution_count": null,
   "metadata": {},
   "outputs": [],
   "source": []
  }
 ],
 "metadata": {
  "kernelspec": {
   "display_name": "Python 3",
   "language": "python",
   "name": "python3"
  },
  "language_info": {
   "codemirror_mode": {
    "name": "ipython",
    "version": 3
   },
   "file_extension": ".py",
   "mimetype": "text/x-python",
   "name": "python",
   "nbconvert_exporter": "python",
   "pygments_lexer": "ipython3",
   "version": "3.7.4"
  }
 },
 "nbformat": 4,
 "nbformat_minor": 4
}
